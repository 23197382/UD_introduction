{
 "cells": [
  {
   "cell_type": "markdown",
   "id": "38e188a5",
   "metadata": {},
   "source": [
    "# Exercise 00\n",
    "Write a piece of code that allocates a list of 20 integers and initializes each element by its index multiplied by 5. Print the result."
   ]
  },
  {
   "cell_type": "code",
   "execution_count": 1,
   "id": "01aa4f35",
   "metadata": {},
   "outputs": [
    {
     "name": "stdout",
     "output_type": "stream",
     "text": [
      "[0, 5, 10, 15, 20, 25, 30, 35, 40, 45, 50, 55, 60, 65, 70, 75, 80, 85, 90, 95]\n"
     ]
    }
   ],
   "source": [
    "myList = []\n",
    "\n",
    "for x in range(20):\n",
    "    x = x * 5\n",
    "    myList.append(x)\n",
    "    \n",
    "print(myList)"
   ]
  },
  {
   "cell_type": "markdown",
   "id": "529d91ae",
   "metadata": {},
   "source": [
    "# Exercise 01\n",
    "Define a function that takes an integer as input, prints  all integers that it is divisable by, and returns the largest one."
   ]
  },
  {
   "cell_type": "code",
   "execution_count": 5,
   "id": "30e79132",
   "metadata": {},
   "outputs": [
    {
     "name": "stdin",
     "output_type": "stream",
     "text": [
      " 18\n"
     ]
    },
    {
     "name": "stdout",
     "output_type": "stream",
     "text": [
      "1\n",
      "2\n",
      "3\n",
      "6\n",
      "9\n"
     ]
    },
    {
     "data": {
      "text/plain": [
       "9"
      ]
     },
     "execution_count": 5,
     "metadata": {},
     "output_type": "execute_result"
    }
   ],
   "source": [
    "def divisor(x):\n",
    "    for i in range(1,int(x/2)+1):\n",
    "        if x%i==0:\n",
    "            divisor = i\n",
    "            print(i)\n",
    "    return divisor\n",
    "\n",
    "x = int(input())\n",
    "divisor(x)"
   ]
  },
  {
   "cell_type": "markdown",
   "id": "cfbe30d4",
   "metadata": {},
   "source": [
    "# Exercise 02\n",
    "- create a dictionary with 6 keys and values of your choice\n",
    "- write a function that takes a dictionary and a value as input and returns whether the value occurs as a key in the dictionary\n",
    "- write a function that takes a dictionary as input, and returns the dictionary but the keys are swapped with their values (resolve the issue if a value occurs twice!)"
   ]
  },
  {
   "cell_type": "code",
   "execution_count": 17,
   "id": "2123f1c6",
   "metadata": {},
   "outputs": [
    {
     "name": "stdin",
     "output_type": "stream",
     "text": [
      "please enter a subject:  3\n"
     ]
    },
    {
     "name": "stdout",
     "output_type": "stream",
     "text": [
      "This subject is not found\n"
     ]
    }
   ],
   "source": [
    "myDict1 = {\n",
    "    'subject 1':'Thai',\n",
    "    'subject 2':'Japanese',\n",
    "    'subject 3':'French',\n",
    "    'subject 4':'Spainish',\n",
    "    'subject 5':'English',\n",
    "    'subject 6':'Chinese'}\n",
    "\n",
    "x = input(\"please enter a subject: \")\n",
    "\n",
    "if x in myDict1.values():\n",
    "    for key, value in myDict1.items():\n",
    "       if value == x:\n",
    "           print (\"This subject is found:\"+' '+key)\n",
    "else:\n",
    "    print(\"This subject is not found\")\n"
   ]
  },
  {
   "cell_type": "code",
   "execution_count": 27,
   "id": "ec280acf-37c2-4e3e-8103-7f88a09defe0",
   "metadata": {},
   "outputs": [
    {
     "data": {
      "text/plain": [
       "{'Thai': 'subject 1',\n",
       " 'Japanese': 'subject 2',\n",
       " 'French': 'subject 3',\n",
       " 'Spainish': 'subject 4',\n",
       " 'English': 'subject 5',\n",
       " 'Chinese': 'subject 6'}"
      ]
     },
     "execution_count": 27,
     "metadata": {},
     "output_type": "execute_result"
    }
   ],
   "source": [
    "def myDict2(d):\n",
    "    myDict2 = {}\n",
    "    for y in d.keys():\n",
    "        myDict2[d[y]]=y\n",
    "    return myDict2\n",
    "myDict2(myDict1)"
   ]
  },
  {
   "cell_type": "code",
   "execution_count": 29,
   "id": "5d097239-b456-49ce-bc0c-496de37f1b0d",
   "metadata": {},
   "outputs": [
    {
     "data": {
      "text/plain": [
       "{'Thai': 'subject 1',\n",
       " 'Japanese': 'subject 2',\n",
       " 'French': 'subject 3',\n",
       " 'Spainish': 'subject 4',\n",
       " 'English': 'subject 5',\n",
       " 'Chinese': 'subject 6'}"
      ]
     },
     "execution_count": 29,
     "metadata": {},
     "output_type": "execute_result"
    }
   ],
   "source": [
    "dict1 = {\n",
    "    'subject 1':'Thai',\n",
    "    'subject 2':'Japanese',\n",
    "    'subject 3':'French',\n",
    "    'subject 4':'Spainish',\n",
    "    'subject 5':'English',\n",
    "    'subject 6':'Chinese'}\n",
    "\n",
    "def myDict3(e):\n",
    "    newDict = {}\n",
    "    for k in e.keys():\n",
    "        if e[k] in newDict:\n",
    "            cv = newDict[e[k]]\n",
    "            newDict[e[k]] = [cv, k]\n",
    "        else:\n",
    "            newDict[e[k]] = k\n",
    "    return newDict\n",
    "    \n",
    "myDict3(dict1)           \n",
    "    "
   ]
  },
  {
   "cell_type": "markdown",
   "id": "b4b4e426",
   "metadata": {},
   "source": [
    "# Exercise 03\n",
    "Define a function that creates a dictionary of the first n fibonacci numbers as values paired with their indices as keys. "
   ]
  },
  {
   "cell_type": "code",
   "execution_count": 7,
   "id": "7845b5a4",
   "metadata": {},
   "outputs": [
    {
     "data": {
      "text/plain": [
       "{0: 0, 1: 1, 2: 1, 3: 2, 4: 3, 5: 5, 6: 8, 7: 13, 8: 21, 9: 34}"
      ]
     },
     "execution_count": 7,
     "metadata": {},
     "output_type": "execute_result"
    }
   ],
   "source": [
    "def fibonacciDict(d):\n",
    "    fibonacci = {}\n",
    "    v1 = 0\n",
    "    v2 = 1\n",
    "    for i in range(d):\n",
    "        fibonacci[i]=v1\n",
    "        v3 = v1 + v2\n",
    "        v1 = v2\n",
    "        v2 = v3\n",
    "    return fibonacci\n",
    "\n",
    "fibonacciDict(10)"
   ]
  }
 ],
 "metadata": {
  "kernelspec": {
   "display_name": "Python 3 (ipykernel)",
   "language": "python",
   "name": "python3"
  },
  "language_info": {
   "codemirror_mode": {
    "name": "ipython",
    "version": 3
   },
   "file_extension": ".py",
   "mimetype": "text/x-python",
   "name": "python",
   "nbconvert_exporter": "python",
   "pygments_lexer": "ipython3",
   "version": "3.12.4"
  }
 },
 "nbformat": 4,
 "nbformat_minor": 5
}
